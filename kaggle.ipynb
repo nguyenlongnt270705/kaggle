{
 "cells": [
  {
   "cell_type": "code",
   "execution_count": null,
   "metadata": {
    "vscode": {
     "languageId": "plaintext"
    }
   },
   "outputs": [],
   "source": [
    "# Tải dữ liệu từ Google Drive\n",
    "!gdown --id 1Xn-aobJLKAq9APYOIENj4kYpk7Ox0NQH -O house-prices.zip\n",
    "!unzip -o house-prices.zip"
   ]
  },
  {
   "cell_type": "code",
   "execution_count": null,
   "metadata": {
    "vscode": {
     "languageId": "plaintext"
    }
   },
   "outputs": [],
   "source": [
    "# Tải kết quả tập test\n",
    "!gdown --id 12LFeaeW9QJpEJPUAGxEipEh7h9rY66HU"
   ]
  },
  {
   "cell_type": "code",
   "execution_count": null,
   "metadata": {
    "vscode": {
     "languageId": "plaintext"
    }
   },
   "outputs": [],
   "source": [
    "import warnings\n",
    "warnings.filterwarnings(\"ignore\")\n",
    "import pandas as pd\n",
    "import numpy as np\n",
    "import seaborn as sns\n",
    "import matplotlib.pyplot as plt"
   ]
  },
  {
   "cell_type": "code",
   "execution_count": null,
   "metadata": {
    "vscode": {
     "languageId": "plaintext"
    }
   },
   "outputs": [],
   "source": [
    "from sklearn.model_selection import train_test_split\n",
    "from sklearn.impute import SimpleImputer\n",
    "from sklearn.preprocessing import OneHotEncoder\n",
    "from sklearn.compose import ColumnTransformer\n",
    "from sklearn.pipeline import Pipeline\n",
    "from sklearn.ensemble import GradientBoostingRegressor\n",
    "from sklearn.linear_model import Ridge\n",
    "from sklearn.metrics import mean_squared_log_error"
   ]
  },
  {
   "cell_type": "code",
   "execution_count": null,
   "metadata": {
    "vscode": {
     "languageId": "plaintext"
    }
   },
   "outputs": [],
   "source": [
    "# Thiết lập matplotlib\n",
    "%config InlineBackend.figure_format = 'retina'\n",
    "%matplotlib inline\n",
    "np.random.seed(1)"
   ]
  },
  {
   "cell_type": "code",
   "execution_count": null,
   "metadata": {
    "vscode": {
     "languageId": "plaintext"
    }
   },
   "outputs": [],
   "source": [
    "# Đọc dữ liệu\n",
    "data_df = pd.read_csv('train.csv', index_col=0)\n",
    "test_X = pd.read_csv('test.csv', index_col=0)\n",
    "test_y = pd.read_csv('test_result.csv', index_col=0)['SalePrice']"
   ]
  },
  {
   "cell_type": "code",
   "execution_count": null,
   "metadata": {
    "vscode": {
     "languageId": "plaintext"
    }
   },
   "outputs": [],
   "source": [
    "# Ý nghĩa của các cột\n",
    "with open('data_description.txt', 'r') as f:\n",
    "    print(f.read())"
   ]
  },
  {
   "cell_type": "code",
   "execution_count": null,
   "metadata": {
    "vscode": {
     "languageId": "plaintext"
    }
   },
   "outputs": [],
   "source": [
    "# Các kiểu dữ liệu có trong bảng\n",
    "data_df.dtypes.unique().tolist()"
   ]
  },
  {
   "cell_type": "code",
   "execution_count": null,
   "metadata": {
    "vscode": {
     "languageId": "plaintext"
    }
   },
   "outputs": [],
   "source": [
    "# Thống kê sơ bộ cho các cột\n",
    "cat_cols = data_df.dtypes.index[ data_df.dtypes == 'O' ].tolist()\n",
    "num_cols = data_df.dtypes.index[ data_df.dtypes != 'O' ].tolist()\n",
    "num_cols.remove('SalePrice')"
   ]
  },
  {
   "cell_type": "code",
   "execution_count": null,
   "metadata": {
    "vscode": {
     "languageId": "plaintext"
    }
   },
   "outputs": [],
   "source": [
    "# Thống kê cho các cột có kiểu numeric\n",
    "data_df[num_cols].describe()"
   ]
  },
  {
   "cell_type": "code",
   "execution_count": null,
   "metadata": {
    "vscode": {
     "languageId": "plaintext"
    }
   },
   "outputs": [],
   "source": [
    "# Thống kê cho các cột có kiểu categorical\n",
    "data_df[cat_cols].describe()"
   ]
  },
  {
   "cell_type": "code",
   "execution_count": null,
   "metadata": {
    "vscode": {
     "languageId": "plaintext"
    }
   },
   "outputs": [],
   "source": [
    "# Mô tả dữ liệu\n",
    "print(\"\\nMô tả dữ liệu:\")\n",
    "print(data_df.describe())\n",
    "print(\"\\nThông tin dữ liệu:\")\n",
    "print(data_df.info())"
   ]
  },
  {
   "cell_type": "code",
   "execution_count": null,
   "metadata": {
    "vscode": {
     "languageId": "plaintext"
    }
   },
   "outputs": [],
   "source": [
    "# Biểu đồ phân phối giá nhà trước và sau log-transform\n",
    "fig, axes = plt.subplots(1, 2, figsize=(12, 5))\n",
    "sns.histplot(data_df['SalePrice'], bins=50, kde=True, ax=axes[0])\n",
    "axes[0].set_title(\"Phân phối SalePrice ban đầu\")\n",
    "data_df[\"SalePrice\"] = np.log1p(data_df[\"SalePrice\"])\n",
    "sns.histplot(data_df['SalePrice'], bins=50, kde=True, ax=axes[1])\n",
    "axes[1].set_title(\"Phân phối SalePrice sau log-transform\")\n",
    "plt.show()"
   ]
  },
  {
   "cell_type": "code",
   "execution_count": null,
   "metadata": {
    "vscode": {
     "languageId": "plaintext"
    }
   },
   "outputs": [],
   "source": [
    "# Xác định cột số và cột phân loại\n",
    "cat_cols = data_df.select_dtypes(include=['object']).columns.tolist()\n",
    "num_cols = data_df.select_dtypes(exclude=['object']).columns.tolist()\n",
    "num_cols.remove('SalePrice')"
   ]
  },
  {
   "cell_type": "code",
   "execution_count": null,
   "metadata": {
    "vscode": {
     "languageId": "plaintext"
    }
   },
   "outputs": [],
   "source": [
    "# Tiền xử lý dữ liệu\n",
    "categorical_transformer = Pipeline(steps=[\n",
    "    ('imputer', SimpleImputer(strategy='constant', fill_value='MissingValue')),\n",
    "    ('onehot', OneHotEncoder(handle_unknown='ignore', sparse_output=False))\n",
    "])\n",
    "\n",
    "numeric_transformer = Pipeline(steps=[\n",
    "    ('imputer', SimpleImputer(strategy='mean'))\n",
    "])\n",
    "\n",
    "preprocessor = ColumnTransformer(\n",
    "    transformers=[\n",
    "        ('numeric', numeric_transformer, num_cols),\n",
    "        ('categorical', categorical_transformer, cat_cols)\n",
    "    ])"
   ]
  },
  {
   "cell_type": "code",
   "execution_count": null,
   "metadata": {
    "vscode": {
     "languageId": "plaintext"
    }
   },
   "outputs": [],
   "source": [
    "# Chia dữ liệu thành tập huấn luyện và tập kiểm tra\n",
    "data_X = data_df.drop('SalePrice', axis=1)\n",
    "data_y = data_df['SalePrice']\n",
    "train_X, val_X, train_y, val_y = train_test_split(data_X, data_y, test_size=0.3)"
   ]
  },
  {
   "cell_type": "code",
   "execution_count": null,
   "metadata": {
    "vscode": {
     "languageId": "plaintext"
    }
   },
   "outputs": [],
   "source": [
    "# Hàm tính RMSLE\n",
    "def root_MSLE(y_true, y_pred):\n",
    "    return mean_squared_log_error(y_true, y_pred) ** (1/2)"
   ]
  },
  {
   "cell_type": "code",
   "execution_count": null,
   "metadata": {
    "vscode": {
     "languageId": "plaintext"
    }
   },
   "outputs": [],
   "source": [
    "# Hàm đánh giá mô hình\n",
    "def TestModel(model, name):\n",
    "    pipeline = Pipeline(steps=[('preprocessor', preprocessor), ('regressor', model)])\n",
    "    pipeline.fit(train_X, train_y)\n",
    "    val_pred = pipeline.predict(val_X)\n",
    "    rmsle = root_MSLE(val_y, val_pred)\n",
    "    print(f'RMSLE của {name}: {rmsle}')\n",
    "    return pipeline, rmsle"
   ]
  },
  {
   "cell_type": "code",
   "execution_count": null,
   "metadata": {
    "vscode": {
     "languageId": "plaintext"
    }
   },
   "outputs": [],
   "source": [
    "# Khởi tạo mô hình và chạy đánh giá\n",
    "models = {\n",
    "    \"Gradient Boosting Regressor\": GradientBoostingRegressor(random_state=22),\n",
    "    \"Ridge Regression\": Ridge(random_state=22)\n",
    "}\n",
    "\n",
    "trained_models = {}\n",
    "rmsle_scores = {}\n",
    "\n",
    "for name, model in models.items():\n",
    "    trained_models[name], rmsle_scores[name] = TestModel(model, name)\n"
   ]
  },
  {
   "cell_type": "code",
   "execution_count": null,
   "metadata": {
    "vscode": {
     "languageId": "plaintext"
    }
   },
   "outputs": [],
   "source": [
    "# Hiển thị bảng so sánh RMSLE\n",
    "rmsle_df = pd.DataFrame(list(rmsle_scores.items()), columns=[\"Model\", \"RMSLE\"])\n",
    "print(\"\\nBảng so sánh RMSLE:\")\n",
    "print(rmsle_df)"
   ]
  },
  {
   "cell_type": "code",
   "execution_count": null,
   "metadata": {
    "vscode": {
     "languageId": "plaintext"
    }
   },
   "outputs": [],
   "source": [
    "# So sánh kết quả bằng biểu đồ\n",
    "plt.figure(figsize=(8, 5))\n",
    "plt.bar(rmsle_scores.keys(), rmsle_scores.values(), color=['blue', 'green'])\n",
    "plt.ylabel(\"RMSLE\")\n",
    "plt.title(\"So sánh RMSLE giữa các mô hình\")\n",
    "plt.show()"
   ]
  },
  {
   "cell_type": "code",
   "execution_count": null,
   "metadata": {
    "vscode": {
     "languageId": "plaintext"
    }
   },
   "outputs": [],
   "source": [
    "# Dự đoán trên tập test (sử dụng pipeline để đảm bảo xử lý đúng)\n",
    "final_gbr_pred = np.expm1(trained_models[\"Gradient Boosting Regressor\"].predict(test_X))\n",
    "final_ridge_pred = np.expm1(trained_models[\"Ridge Regression\"].predict(test_X))"
   ]
  },
  {
   "cell_type": "code",
   "execution_count": null,
   "metadata": {
    "vscode": {
     "languageId": "plaintext"
    }
   },
   "outputs": [],
   "source": [
    "# Lưu kết quả\n",
    "gbr_results = pd.DataFrame({'Id': test_X.index, 'SalePrice': final_gbr_pred})\n",
    "gbr_results.to_csv('gbr_final.csv', index=False)\n",
    "\n",
    "ridge_results = pd.DataFrame({'Id': test_X.index, 'SalePrice': final_ridge_pred})\n",
    "ridge_results.to_csv('ridge_final.csv', index=False)"
   ]
  },
  {
   "cell_type": "code",
   "execution_count": null,
   "metadata": {
    "vscode": {
     "languageId": "plaintext"
    }
   },
   "outputs": [],
   "source": [
    "print(\"Dự đoán từ Gradient Boosting Regressor:\")\n",
    "print(final_gbr_pred[:10])  # Xem 10 dòng đầu\n",
    "\n",
    "print(\"\\nDự đoán từ Ridge Regression:\")\n",
    "print(final_ridge_pred[:10])"
   ]
  },
  {
   "cell_type": "code",
   "execution_count": null,
   "metadata": {
    "vscode": {
     "languageId": "plaintext"
    }
   },
   "outputs": [],
   "source": [
    "results_df = pd.DataFrame({\n",
    "    'Id': test_X.index,\n",
    "    'GBR Prediction': final_gbr_pred,\n",
    "    'Ridge Prediction': final_ridge_pred,\n",
    "    'Actual Price': test_y.values  # Giá thực tế để so sánh\n",
    "})\n",
    "print(results_df.head(10))  # Xem 10 dòng đầu"
   ]
  },
  {
   "cell_type": "code",
   "execution_count": null,
   "metadata": {
    "vscode": {
     "languageId": "plaintext"
    }
   },
   "outputs": [],
   "source": [
    "plt.figure(figsize=(10, 5))\n",
    "plt.scatter(test_y, final_gbr_pred, alpha=0.5, label=\"Gradient Boosting\")\n",
    "plt.scatter(test_y, final_ridge_pred, alpha=0.5, label=\"Ridge Regression\")\n",
    "plt.plot([min(test_y), max(test_y)], [min(test_y), max(test_y)], 'r--', label=\"Perfect Prediction\")\n",
    "plt.xlabel(\"Actual Price\")\n",
    "plt.ylabel(\"Predicted Price\")\n",
    "plt.legend()\n",
    "plt.title(\"So sánh dự đoán và giá thực tế\")\n",
    "plt.show()"
   ]
  },
  {
   "cell_type": "code",
   "execution_count": null,
   "metadata": {
    "vscode": {
     "languageId": "plaintext"
    }
   },
   "outputs": [],
   "source": [
    "# Hiển thị dữ liệu\n",
    "gbr_results = pd.read_csv(\"gbr_final.csv\")\n",
    "ridge_results = pd.read_csv(\"ridge_final.csv\")\n",
    "\n",
    "print(gbr_results.head())  # Hiển thị 5 dòng đầu tiên\n",
    "print(ridge_results.head())  # Hiển thị 5 dòng đầu tiên"
   ]
  }
 ],
 "metadata": {
  "language_info": {
   "name": "python"
  }
 },
 "nbformat": 4,
 "nbformat_minor": 2
}
